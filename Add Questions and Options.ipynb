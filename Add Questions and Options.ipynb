{
 "cells": [
  {
   "cell_type": "code",
   "execution_count": 53,
   "metadata": {},
   "outputs": [],
   "source": [
    "from csv import DictWriter"
   ]
  },
  {
   "cell_type": "code",
   "execution_count": 61,
   "metadata": {},
   "outputs": [
    {
     "name": "stdout",
     "output_type": "stream",
     "text": [
      "Enter your Question : Number of hundreds made by sachin in international cricket?\n",
      "Enter Option A : 50\n",
      "Enter Option B : 40\n",
      "Enter Option C : 120\n",
      "Enter Option D : 100\n",
      "Enter Correct Option : 100\n",
      "Enter your Question : Capital of India?\n",
      "Enter Option A : New Delhi\n",
      "Enter Option B : Kolkata\n",
      "Enter Option C : Delhi\n",
      "Enter Option D : Mumbai\n",
      "Enter Correct Option : New Delhi\n"
     ]
    }
   ],
   "source": [
    "for i in range(0,2): \n",
    "    question=input(\"Enter your Question : \")\n",
    "    opt1=input(\"Enter Option A : \")\n",
    "    opt2=input(\"Enter Option B : \")\n",
    "    opt3=input(\"Enter Option C : \")\n",
    "    opt4=input(\"Enter Option D : \")\n",
    "    correct=input(\"Enter Correct Option : \")\n",
    "\n",
    "    field_names=['Question','Option A','Option B','Option C','Option D','Correct']\n",
    "    Quiz={\n",
    "        'Question':question,\n",
    "        'Option A':opt1,\n",
    "        'Option B':opt2,\n",
    "        'Option C':opt3,\n",
    "        'Option D':opt4,\n",
    "        'Correct':correct\n",
    "    }\n",
    "    with open('quiz_question_option.csv','a') as f_object:\n",
    "    dictwriter_object=DictWriter(f_object,fieldnames=field_names)\n",
    "    dictwriter_object.writerow(Quiz)\n",
    "    f_object.close()"
   ]
  },
  {
   "cell_type": "code",
   "execution_count": 44,
   "metadata": {},
   "outputs": [],
   "source": []
  }
 ],
 "metadata": {
  "kernelspec": {
   "display_name": "Python 3",
   "language": "python",
   "name": "python3"
  },
  "language_info": {
   "codemirror_mode": {
    "name": "ipython",
    "version": 3
   },
   "file_extension": ".py",
   "mimetype": "text/x-python",
   "name": "python",
   "nbconvert_exporter": "python",
   "pygments_lexer": "ipython3",
   "version": "3.8.5"
  }
 },
 "nbformat": 4,
 "nbformat_minor": 4
}
