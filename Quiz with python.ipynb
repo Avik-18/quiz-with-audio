{
 "cells": [
  {
   "cell_type": "code",
   "execution_count": 88,
   "metadata": {},
   "outputs": [],
   "source": [
    "import pandas as pd\n",
    "import numpy as np"
   ]
  },
  {
   "cell_type": "code",
   "execution_count": 89,
   "metadata": {},
   "outputs": [],
   "source": [
    "str=pd.read_csv('quiz_question_option.csv',sep=\",\",header=None)"
   ]
  },
  {
   "cell_type": "code",
   "execution_count": 90,
   "metadata": {},
   "outputs": [],
   "source": [
    "arr=str.to_numpy()"
   ]
  },
  {
   "cell_type": "code",
   "execution_count": 91,
   "metadata": {},
   "outputs": [
    {
     "name": "stdout",
     "output_type": "stream",
     "text": [
      "4\n",
      "6\n"
     ]
    }
   ],
   "source": [
    "row=arr.shape[0]\n",
    "print(row)\n",
    "\n",
    "col=arr.shape[1]\n",
    "print(col)"
   ]
  },
  {
   "cell_type": "code",
   "execution_count": 94,
   "metadata": {},
   "outputs": [
    {
     "name": "stdout",
     "output_type": "stream",
     "text": [
      "Who is the developer?\n",
      "1 )  Avik\n",
      "2 )  Sayan\n",
      "3 )  Samiran\n",
      "4 )  Sulagna\n",
      "Enter your answer : Samiran\n",
      "Answer is wrong\n",
      "\n",
      "\n",
      "How many player are required to play cricket?\n",
      "1 )  10\n",
      "2 )  11\n",
      "3 )  15\n",
      "4 )  9\n",
      "Enter your answer : 11\n",
      "Answer is correct\n",
      "\n",
      "\n",
      "Capital of India?\n",
      "1 )  New Delhi\n",
      "2 )  Kolkata\n",
      "3 )  Delhi\n",
      "4 )  Mumbai\n",
      "Enter your answer : Kolkata\n",
      "Answer is wrong\n",
      "\n",
      "\n"
     ]
    }
   ],
   "source": [
    "for i in range(1,row):\n",
    "    print(arr[i][0])\n",
    "    for j in range(1,col-1):\n",
    "        print(j,\") \",arr[i][j])\n",
    "    ans=input(\"Enter your answer : \")\n",
    "    \n",
    "    if ans==arr[i][5]:\n",
    "        print(\"Answer is correct\\n\\n\")\n",
    "    else:\n",
    "        print(\"Answer is wrong\\n\\n\")\n",
    "    "
   ]
  },
  {
   "cell_type": "code",
   "execution_count": null,
   "metadata": {},
   "outputs": [],
   "source": []
  }
 ],
 "metadata": {
  "kernelspec": {
   "display_name": "Python 3",
   "language": "python",
   "name": "python3"
  },
  "language_info": {
   "codemirror_mode": {
    "name": "ipython",
    "version": 3
   },
   "file_extension": ".py",
   "mimetype": "text/x-python",
   "name": "python",
   "nbconvert_exporter": "python",
   "pygments_lexer": "ipython3",
   "version": "3.8.5"
  }
 },
 "nbformat": 4,
 "nbformat_minor": 4
}
